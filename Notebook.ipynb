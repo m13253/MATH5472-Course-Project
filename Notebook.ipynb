{
 "cells": [
  {
   "cell_type": "code",
   "execution_count": 12,
   "metadata": {},
   "outputs": [],
   "source": [
    "import numpy\n",
    "import numpy.linalg\n",
    "import pandas\n",
    "import sklearn\n",
    "import sklearn.decomposition\n",
    "import sklearn.linear_model"
   ]
  },
  {
   "cell_type": "markdown",
   "metadata": {},
   "source": [
    "The R dataset is preprocessed and converted to Python format."
   ]
  },
  {
   "cell_type": "code",
   "execution_count": 2,
   "metadata": {},
   "outputs": [
    {
     "name": "stdout",
     "output_type": "stream",
     "text": [
      "(5123, 319147)\n",
      "(5123, 4)\n"
     ]
    }
   ],
   "source": [
    "G: pandas.DataFrame = pandas.read_pickle('GWAS_X.pkl.xz')\n",
    "print(G.shape)\n",
    "y: pandas.DataFrame = pandas.read_pickle('GWAS_y.pkl.xz')\n",
    "print(y.shape)"
   ]
  },
  {
   "cell_type": "markdown",
   "metadata": {},
   "source": [
    "# Problem 1"
   ]
  },
  {
   "cell_type": "code",
   "execution_count": 3,
   "metadata": {
    "tags": [
    ]
   },
   "outputs": [
    {
     "name": "stdout",
     "output_type": "stream",
     "text": [
      "(5123, 319147)\n"
     ]
    }
   ],
   "source": [
    "G_raw = G.to_numpy()\n",
    "W = (G_raw - G_raw.mean(axis=0)) / G_raw.std(axis=0)\n",
    "print(W.shape)"
   ]
  },
  {
   "cell_type": "code",
   "execution_count": 10,
   "metadata": {},
   "outputs": [
    {
     "name": "stdout",
     "output_type": "stream",
     "text": [
      "(5123, 10)\n",
      "(5123, 11)\n"
     ]
    }
   ],
   "source": [
    "X = sklearn.decomposition.PCA(n_components=10).fit_transform(W)\n",
    "print(X.shape)\n",
    "X = numpy.concatenate((X, numpy.ones((5123, 1))), axis=1)\n",
    "print(X.shape)"
   ]
  },
  {
   "cell_type": "markdown",
   "metadata": {},
   "source": [
    "(Unfinished)"
   ]
  },
  {
   "cell_type": "markdown",
   "metadata": {},
   "source": [
    "# Question 2. Scaled Lasso\n",
    "\n",
    "Using an adaptive $\\ell_1$ penalty as following:\n",
    "$$\\alpha = \\sigma\\{(s/n)\\log p\\}^{1/2}$$\n",
    "\n",
    "Reference:\n",
    "\n",
    "Belloni, Alexandre, Victor Chernozhukov, and Lie Wang. \"Square-root lasso: pivotal recovery of sparse signals via conic programming.\" Biometrika 98, no. 4 (2011): 791-806.\n"
   ]
  },
  {
   "cell_type": "code",
   "execution_count": 16,
   "metadata": {},
   "outputs": [
    {
     "name": "stdout",
     "output_type": "stream",
     "text": [
      "Pheno #0, iter 0, sigma = 0.9998716866476096\n",
      "Pheno #0, iter 1, sigma = 0.9956946218215036\n",
      "Pheno #0, iter 2, sigma = 0.9955384338735489\n",
      "Pheno #0, iter 3, sigma = 0.995532605933309\n",
      "Pheno #0, iter 4, sigma = 0.9955323884887018\n",
      "Pheno #1, iter 0, sigma = 0.9998716866476096\n",
      "Pheno #1, iter 1, sigma = 1.0009033495780462\n",
      "Pheno #1, iter 2, sigma = 1.0008939786433695\n",
      "Pheno #1, iter 3, sigma = 1.0008940635845\n",
      "Pheno #1, iter 4, sigma = 1.000894062814552\n",
      "Pheno #2, iter 0, sigma = 0.9998716866476096\n",
      "Pheno #2, iter 1, sigma = 0.995238475137124\n",
      "Pheno #2, iter 2, sigma = 0.9950578633092793\n",
      "Pheno #2, iter 3, sigma = 0.9950508383362594\n",
      "Pheno #2, iter 4, sigma = 0.9950505651206895\n",
      "Pheno #3, iter 0, sigma = 0.9998716866476096\n",
      "Pheno #3, iter 1, sigma = 0.9992558746184876\n",
      "Pheno #3, iter 2, sigma = 0.9992483802483365\n",
      "Pheno #3, iter 3, sigma = 0.9992482891294728\n",
      "Pheno #3, iter 4, sigma = 0.9992482880216345\n"
     ]
    }
   ],
   "source": [
    "n, p = G.shape\n",
    "for pheno in range(4):\n",
    "    beta = numpy.random.normal(size=(p,))\n",
    "    y1 = y.to_numpy()[:, pheno]\n",
    "    for i in range(5):\n",
    "        alpha = numpy.sqrt(2 * numpy.log(p)) * numpy.linalg.norm(y1 - W.dot(beta)) / n\n",
    "        clf = sklearn.linear_model.Lasso(alpha=alpha, max_iter=100)\n",
    "        clf.fit(W, y_)\n",
    "        beta = clf.coef_\n",
    "\n",
    "        sigma = numpy.linalg.norm(y1 - W.dot(beta)) / numpy.sqrt(n)\n",
    "        print('Pheno #{}, iter {}, sigma = {}'.format(pheno, i, sigma))"
   ]
  },
  {
   "cell_type": "code",
   "execution_count": null,
   "metadata": {},
   "outputs": [],
   "source": []
  }
 ],
 "metadata": {
  "kernelspec": {
   "display_name": "Python 3.8.2 64-bit",
   "language": "python",
   "name": "python38264bit658c04240673429aba1a62280d6b39c8"
  },
  "language_info": {
   "codemirror_mode": {
    "name": "ipython",
    "version": 3
   },
   "file_extension": ".py",
   "mimetype": "text/x-python",
   "name": "python",
   "nbconvert_exporter": "python",
   "pygments_lexer": "ipython3",
   "version": "3.8.2"
  }
 },
 "nbformat": 4,
 "nbformat_minor": 2
}
